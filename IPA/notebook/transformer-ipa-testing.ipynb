{
 "cells": [
  {
   "cell_type": "code",
   "execution_count": 1,
   "id": "06e46d0b",
   "metadata": {
    "execution": {
     "iopub.execute_input": "2023-09-19T18:33:06.357296Z",
     "iopub.status.busy": "2023-09-19T18:33:06.356278Z",
     "iopub.status.idle": "2023-09-19T18:33:14.179883Z",
     "shell.execute_reply": "2023-09-19T18:33:14.179027Z",
     "shell.execute_reply.started": "2023-09-19T16:19:11.363313Z"
    },
    "papermill": {
     "duration": 7.968085,
     "end_time": "2023-09-19T18:33:14.180077",
     "exception": false,
     "start_time": "2023-09-19T18:33:06.211992",
     "status": "completed"
    },
    "tags": []
   },
   "outputs": [
    {
     "name": "stdout",
     "output_type": "stream",
     "text": [
      "gpu up\n"
     ]
    }
   ],
   "source": [
    "\"\"\"\n",
    "torch modules\n",
    "with ofc  numpy  and pandas\n",
    "\n",
    "\"\"\"\n",
    "\n",
    "import pandas as pd\n",
    "import numpy as np \n",
    "\n",
    "from torch import nn\n",
    "import torch\n",
    "from torchtext import data\n",
    "from torch.nn  import functional as F\n",
    "import torch.optim as  optim \n",
    "if torch.cuda.is_available():  \n",
    "  dev = \"cuda:0\" \n",
    "\n",
    "  print(\"gpu up\")\n",
    "else:  \n",
    "  dev = \"cpu\"  \n",
    "device = torch.device(dev)\n",
    "\n",
    "import random\n",
    "SEED= 32\n",
    "\n",
    "\n",
    "import re\n",
    "from spacy.tokenizer import Tokenizer\n",
    "from spacy.lang.en import English\n",
    "from spacy.lang.ar import Arabic\n",
    "from nltk.translate.bleu_score import sentence_bleu\n",
    "import pandas as pd"
   ]
  },
  {
   "cell_type": "code",
   "execution_count": 2,
   "id": "c61afcf2",
   "metadata": {
    "execution": {
     "iopub.execute_input": "2023-09-19T18:33:14.246396Z",
     "iopub.status.busy": "2023-09-19T18:33:14.243388Z",
     "iopub.status.idle": "2023-09-19T18:33:22.979865Z",
     "shell.execute_reply": "2023-09-19T18:33:22.979238Z",
     "shell.execute_reply.started": "2023-09-19T16:19:11.377287Z"
    },
    "papermill": {
     "duration": 8.768857,
     "end_time": "2023-09-19T18:33:22.980013",
     "exception": false,
     "start_time": "2023-09-19T18:33:14.211156",
     "status": "completed"
    },
    "tags": []
   },
   "outputs": [
    {
     "name": "stdout",
     "output_type": "stream",
     "text": [
      "Name: torch\r\n",
      "Version: 1.7.1+cu110\r\n",
      "Summary: Tensors and Dynamic neural networks in Python with strong GPU acceleration\r\n",
      "Home-page: https://pytorch.org/\r\n",
      "Author: PyTorch Team\r\n",
      "Author-email: packages@pytorch.org\r\n",
      "License: BSD-3\r\n",
      "Location: /opt/conda/lib/python3.7/site-packages\r\n",
      "Requires: numpy, typing-extensions\r\n",
      "Required-by: torchvision, torchtext, torchmetrics, torchaudio, pytorch-lightning, pytorch-ignite, kornia, fastai, fairscale, easyocr, catalyst, allennlp\r\n"
     ]
    }
   ],
   "source": [
    "!pip show torch\n"
   ]
  },
  {
   "cell_type": "code",
   "execution_count": 3,
   "id": "10d1b61f",
   "metadata": {
    "execution": {
     "iopub.execute_input": "2023-09-19T18:33:23.046836Z",
     "iopub.status.busy": "2023-09-19T18:33:23.045969Z",
     "iopub.status.idle": "2023-09-19T18:33:23.049448Z",
     "shell.execute_reply": "2023-09-19T18:33:23.049922Z",
     "shell.execute_reply.started": "2023-09-19T16:19:19.474088Z"
    },
    "papermill": {
     "duration": 0.040018,
     "end_time": "2023-09-19T18:33:23.050076",
     "exception": false,
     "start_time": "2023-09-19T18:33:23.010058",
     "status": "completed"
    },
    "tags": []
   },
   "outputs": [
    {
     "data": {
      "text/plain": [
       "'\\nregex and the tokenizers\\n'"
      ]
     },
     "execution_count": 3,
     "metadata": {},
     "output_type": "execute_result"
    }
   ],
   "source": [
    "\"\"\"\n",
    "regex and the tokenizers\n",
    "\"\"\""
   ]
  },
  {
   "cell_type": "code",
   "execution_count": 4,
   "id": "b935d526",
   "metadata": {
    "_cell_guid": "79c7e3d0-c299-4dcb-8224-4455121ee9b0",
    "_uuid": "d629ff2d2480ee46fbb7e2d37f6b5fab8052498a",
    "execution": {
     "iopub.execute_input": "2023-09-19T18:33:23.118129Z",
     "iopub.status.busy": "2023-09-19T18:33:23.117212Z",
     "iopub.status.idle": "2023-09-19T18:33:23.539679Z",
     "shell.execute_reply": "2023-09-19T18:33:23.539044Z",
     "shell.execute_reply.started": "2023-09-19T16:19:19.483428Z"
    },
    "papermill": {
     "duration": 0.460654,
     "end_time": "2023-09-19T18:33:23.539841",
     "exception": false,
     "start_time": "2023-09-19T18:33:23.079187",
     "status": "completed"
    },
    "tags": []
   },
   "outputs": [],
   "source": [
    "df = pd.read_csv(\"../input/ipa-data-bangla/sushmitIPAData.csv\",delimiter=\"\\t\",names=[\"ban\",\"ipa\"])"
   ]
  },
  {
   "cell_type": "code",
   "execution_count": 5,
   "id": "4faa5e62",
   "metadata": {
    "execution": {
     "iopub.execute_input": "2023-09-19T18:33:23.607682Z",
     "iopub.status.busy": "2023-09-19T18:33:23.605224Z",
     "iopub.status.idle": "2023-09-19T18:33:23.623694Z",
     "shell.execute_reply": "2023-09-19T18:33:23.624218Z",
     "shell.execute_reply.started": "2023-09-19T16:19:19.808271Z"
    },
    "papermill": {
     "duration": 0.055817,
     "end_time": "2023-09-19T18:33:23.624392",
     "exception": false,
     "start_time": "2023-09-19T18:33:23.568575",
     "status": "completed"
    },
    "tags": []
   },
   "outputs": [
    {
     "data": {
      "text/html": [
       "<div>\n",
       "<style scoped>\n",
       "    .dataframe tbody tr th:only-of-type {\n",
       "        vertical-align: middle;\n",
       "    }\n",
       "\n",
       "    .dataframe tbody tr th {\n",
       "        vertical-align: top;\n",
       "    }\n",
       "\n",
       "    .dataframe thead th {\n",
       "        text-align: right;\n",
       "    }\n",
       "</style>\n",
       "<table border=\"1\" class=\"dataframe\">\n",
       "  <thead>\n",
       "    <tr style=\"text-align: right;\">\n",
       "      <th></th>\n",
       "      <th>ban</th>\n",
       "      <th>ipa</th>\n",
       "    </tr>\n",
       "  </thead>\n",
       "  <tbody>\n",
       "    <tr>\n",
       "      <th>0</th>\n",
       "      <td>ও</td>\n",
       "      <td>o</td>\n",
       "    </tr>\n",
       "    <tr>\n",
       "      <th>1</th>\n",
       "      <td>করে</td>\n",
       "      <td>kɔre</td>\n",
       "    </tr>\n",
       "    <tr>\n",
       "      <th>2</th>\n",
       "      <td>না</td>\n",
       "      <td>na</td>\n",
       "    </tr>\n",
       "    <tr>\n",
       "      <th>3</th>\n",
       "      <td>থেকে</td>\n",
       "      <td>t̪ʰeke</td>\n",
       "    </tr>\n",
       "    <tr>\n",
       "      <th>4</th>\n",
       "      <td>এ</td>\n",
       "      <td>e</td>\n",
       "    </tr>\n",
       "    <tr>\n",
       "      <th>...</th>\n",
       "      <td>...</td>\n",
       "      <td>...</td>\n",
       "    </tr>\n",
       "    <tr>\n",
       "      <th>179316</th>\n",
       "      <td>সেটির</td>\n",
       "      <td>ʃetir</td>\n",
       "    </tr>\n",
       "    <tr>\n",
       "      <th>179317</th>\n",
       "      <td>মহলের</td>\n",
       "      <td>mɔholer</td>\n",
       "    </tr>\n",
       "    <tr>\n",
       "      <th>179318</th>\n",
       "      <td>বর্ষণ</td>\n",
       "      <td>bɔrʃon</td>\n",
       "    </tr>\n",
       "    <tr>\n",
       "      <th>179319</th>\n",
       "      <td>উঠলে</td>\n",
       "      <td>utʰle</td>\n",
       "    </tr>\n",
       "    <tr>\n",
       "      <th>179320</th>\n",
       "      <td>গুনাহ</td>\n",
       "      <td>gunah</td>\n",
       "    </tr>\n",
       "  </tbody>\n",
       "</table>\n",
       "<p>179321 rows × 2 columns</p>\n",
       "</div>"
      ],
      "text/plain": [
       "          ban      ipa\n",
       "0           ও        o\n",
       "1         করে     kɔre\n",
       "2          না       na\n",
       "3        থেকে   t̪ʰeke\n",
       "4           এ        e\n",
       "...       ...      ...\n",
       "179316  সেটির    ʃetir\n",
       "179317  মহলের  mɔholer\n",
       "179318  বর্ষণ   bɔrʃon\n",
       "179319   উঠলে    utʰle\n",
       "179320  গুনাহ    gunah\n",
       "\n",
       "[179321 rows x 2 columns]"
      ]
     },
     "execution_count": 5,
     "metadata": {},
     "output_type": "execute_result"
    }
   ],
   "source": [
    "df"
   ]
  },
  {
   "cell_type": "code",
   "execution_count": 6,
   "id": "5f4338d4",
   "metadata": {
    "execution": {
     "iopub.execute_input": "2023-09-19T18:33:23.696276Z",
     "iopub.status.busy": "2023-09-19T18:33:23.695277Z",
     "iopub.status.idle": "2023-09-19T18:33:47.549559Z",
     "shell.execute_reply": "2023-09-19T18:33:47.550247Z",
     "shell.execute_reply.started": "2023-09-19T16:19:19.825491Z"
    },
    "papermill": {
     "duration": 23.896553,
     "end_time": "2023-09-19T18:33:47.550443",
     "exception": false,
     "start_time": "2023-09-19T18:33:23.653890",
     "status": "completed"
    },
    "tags": []
   },
   "outputs": [
    {
     "name": "stderr",
     "output_type": "stream",
     "text": [
      "/opt/conda/lib/python3.7/site-packages/torchtext/data/field.py:150: UserWarning: Field class will be retired soon and moved to torchtext.legacy. Please see the most recent release notes for further information.\n",
      "  warnings.warn('{} class will be retired soon and moved to torchtext.legacy. Please see the most recent release notes for further information.'.format(self.__class__.__name__), UserWarning)\n",
      "/opt/conda/lib/python3.7/site-packages/torchtext/data/example.py:78: UserWarning: Example class will be retired soon and moved to torchtext.legacy. Please see the most recent release notes for further information.\n",
      "  warnings.warn('Example class will be retired soon and moved to torchtext.legacy. Please see the most recent release notes for further information.', UserWarning)\n",
      "/opt/conda/lib/python3.7/site-packages/torchtext/data/iterator.py:48: UserWarning: BucketIterator class will be retired soon and moved to torchtext.legacy. Please see the most recent release notes for further information.\n",
      "  warnings.warn('{} class will be retired soon and moved to torchtext.legacy. Please see the most recent release notes for further information.'.format(self.__class__.__name__), UserWarning)\n"
     ]
    }
   ],
   "source": [
    "\n",
    "def myTokenizerBAN(x):\n",
    "    x = ' '.join(x)\n",
    "    x = x.split(' ')\n",
    "    return list(x)\n",
    "\n",
    "def myTokenizerIPA(x):\n",
    "    x = ' '.join(x)\n",
    "    x = x.split(' ')\n",
    "    return list(x)\n",
    "\n",
    "\n",
    "SRC = data.Field(tokenize=myTokenizerBAN,batch_first=False,init_token=\"<sos>\",eos_token=\"<eos>\")\n",
    "TARGET = data.Field(tokenize=myTokenizerIPA,batch_first=False,tokenizer_language=\"ipa\",init_token=\"<sos>\",eos_token=\"<eos>\")\n",
    "\n",
    "class DataFrameDataset(data.Dataset):\n",
    "\n",
    "    def __init__(self, df, src_field, target_field, is_test=False, **kwargs):\n",
    "        fields = [('ban', src_field), ('ipa',target_field)]\n",
    "        examples = []\n",
    "        for i, row in df.iterrows():\n",
    "            ban = row.ban \n",
    "            ipa = row.ipa\n",
    "            examples.append(data.Example.fromlist([ban, ipa], fields))\n",
    "\n",
    "        super().__init__(examples, fields, **kwargs)\n",
    "\n",
    "        \n",
    "torchdataset = DataFrameDataset(df,SRC,TARGET)\n",
    "\n",
    "train_data, valid_data = torchdataset.split(split_ratio=0.8, random_state = random.seed(SEED))\n",
    "\n",
    "SRC.build_vocab(train_data,min_freq=2)\n",
    "TARGET.build_vocab(train_data,min_freq=2)\n",
    "\n",
    "BATCH_SIZE = 64\n",
    "\n",
    "\n",
    "\n",
    "train_iterator,valid_iterator = data.BucketIterator.splits(\n",
    "    (train_data,valid_data), \n",
    "    batch_size = BATCH_SIZE,\n",
    "    device = device,\n",
    "    sort=False,\n",
    "    sort_within_batch=False,\n",
    "shuffle=True)\n"
   ]
  },
  {
   "cell_type": "code",
   "execution_count": 7,
   "id": "5e522303",
   "metadata": {
    "execution": {
     "iopub.execute_input": "2023-09-19T18:33:47.635406Z",
     "iopub.status.busy": "2023-09-19T18:33:47.633583Z",
     "iopub.status.idle": "2023-09-19T18:33:47.636117Z",
     "shell.execute_reply": "2023-09-19T18:33:47.636589Z",
     "shell.execute_reply.started": "2023-09-19T16:19:44.183032Z"
    },
    "papermill": {
     "duration": 0.056433,
     "end_time": "2023-09-19T18:33:47.636780",
     "exception": false,
     "start_time": "2023-09-19T18:33:47.580347",
     "status": "completed"
    },
    "tags": []
   },
   "outputs": [],
   "source": [
    "\"\"\"\n",
    "to point out one thing about the transformer what it could do is to enable \n",
    "training on the whole sequence at once but on really using it for translation it predicts the next word \n",
    "then it feeds the prediction into the sequence again until the model predict <eos> token (with a max length ofc)\n",
    "\n",
    "\"\"\"\n",
    "class TranslateTransformer(nn.Module):\n",
    "    def __init__(\n",
    "        self,\n",
    "        embedding_size,\n",
    "        src_vocab_size,\n",
    "        trg_vocab_size,\n",
    "        src_pad_idx,\n",
    "        num_heads,\n",
    "        num_encoder_layers,\n",
    "        num_decoder_layers,\n",
    "        max_len,\n",
    "    ):\n",
    "        super(TranslateTransformer, self).__init__()\n",
    "        self.srcEmbeddings = nn.Embedding(src_vocab_size,embedding_size)\n",
    "        self.trgEmbeddings= nn.Embedding(trg_vocab_size,embedding_size)\n",
    "        self.srcPositionalEmbeddings= nn.Embedding(max_len,embedding_size)\n",
    "        self.trgPositionalEmbeddings= nn.Embedding(max_len,embedding_size)\n",
    "        self.transformer = nn.Transformer(\n",
    "            embedding_size,\n",
    "            num_heads,\n",
    "            num_encoder_layers,\n",
    "            num_decoder_layers,\n",
    "        )\n",
    "        self.fc_out = nn.Linear(embedding_size, trg_vocab_size)\n",
    "        self.dropout = nn.Dropout(0.1)\n",
    "        self.src_pad_idx = src_pad_idx\n",
    "        self.max_len = max_len\n",
    "    \n",
    "    def make_src_mask(self, src):\n",
    "        src_mask = src.transpose(0,1) == self.src_pad_idx\n",
    "\n",
    "        return src_mask.to(device)\n",
    "\n",
    "    def forward(self,x,trg):\n",
    "        src_seq_length = x.shape[0]\n",
    "        N = x.shape[1]\n",
    "        trg_seq_length = trg.shape[0]\n",
    "        #adding zeros is an easy way\n",
    "        src_positions = (\n",
    "            torch.arange(0, src_seq_length)\n",
    "            .reshape(src_seq_length,1)  + torch.zeros(src_seq_length,N) \n",
    "        ).to(device)\n",
    "        \n",
    "        trg_positions = (\n",
    "            torch.arange(0, trg_seq_length)\n",
    "            .reshape(trg_seq_length,1)  + torch.zeros(trg_seq_length,N) \n",
    "        ).to(device)\n",
    "\n",
    "\n",
    "        srcWords = self.dropout(self.srcEmbeddings(x.long()) +self.srcPositionalEmbeddings(src_positions.long()))\n",
    "        trgWords = self.dropout(self.trgEmbeddings(trg.long())+self.trgPositionalEmbeddings(trg_positions.long()))\n",
    "        \n",
    "        src_padding_mask = self.make_src_mask(x)\n",
    "        trg_mask = self.transformer.generate_square_subsequent_mask(trg_seq_length).to(device)\n",
    "        \n",
    "        \n",
    "        out = self.transformer(srcWords,trgWords, src_key_padding_mask=src_padding_mask,tgt_mask=trg_mask )\n",
    "        out= self.fc_out(out)\n",
    "        return out\n",
    "        \n",
    "\n"
   ]
  },
  {
   "cell_type": "code",
   "execution_count": 8,
   "id": "8746bd74",
   "metadata": {
    "execution": {
     "iopub.execute_input": "2023-09-19T18:33:47.704217Z",
     "iopub.status.busy": "2023-09-19T18:33:47.703525Z",
     "iopub.status.idle": "2023-09-19T18:33:54.032180Z",
     "shell.execute_reply": "2023-09-19T18:33:54.031613Z",
     "shell.execute_reply.started": "2023-09-19T16:19:44.207948Z"
    },
    "papermill": {
     "duration": 6.365682,
     "end_time": "2023-09-19T18:33:54.032339",
     "exception": false,
     "start_time": "2023-09-19T18:33:47.666657",
     "status": "completed"
    },
    "tags": []
   },
   "outputs": [
    {
     "name": "stdout",
     "output_type": "stream",
     "text": [
      "Size of Bangla vocabulary: 70\n",
      "Size of IPA vocabulary: 34\n"
     ]
    }
   ],
   "source": [
    "#No. of unique tokens in text\n",
    "src_vocab_size  = len(SRC.vocab)\n",
    "print(\"Size of Bangla vocabulary:\",src_vocab_size)\n",
    "\n",
    "#No. of unique tokens in label\n",
    "trg_vocab_size =len(TARGET.vocab)\n",
    "print(\"Size of IPA vocabulary:\",trg_vocab_size)\n",
    "\n",
    "num_heads = 8\n",
    "num_encoder_layers = 2\n",
    "num_decoder_layers = 2\n",
    "\n",
    "max_len= 100\n",
    "embedding_size= 256\n",
    "src_pad_idx =SRC.vocab.stoi[\"<pad>\"]\n",
    "\n",
    "\n",
    "model = TranslateTransformer(\n",
    "    embedding_size,\n",
    "    src_vocab_size,\n",
    "    trg_vocab_size,\n",
    "    src_pad_idx,\n",
    "    num_heads,\n",
    "    num_encoder_layers,\n",
    "    num_decoder_layers,\n",
    "    max_len\n",
    ").to(device)"
   ]
  },
  {
   "cell_type": "code",
   "execution_count": 9,
   "id": "0c1fb156",
   "metadata": {
    "execution": {
     "iopub.execute_input": "2023-09-19T18:33:54.098930Z",
     "iopub.status.busy": "2023-09-19T18:33:54.097983Z",
     "iopub.status.idle": "2023-09-19T18:33:54.099853Z",
     "shell.execute_reply": "2023-09-19T18:33:54.100380Z",
     "shell.execute_reply.started": "2023-09-19T16:19:44.311691Z"
    },
    "papermill": {
     "duration": 0.03748,
     "end_time": "2023-09-19T18:33:54.100533",
     "exception": false,
     "start_time": "2023-09-19T18:33:54.063053",
     "status": "completed"
    },
    "tags": []
   },
   "outputs": [],
   "source": [
    "loss_track = []\n",
    "loss_validation_track= []"
   ]
  },
  {
   "cell_type": "code",
   "execution_count": 10,
   "id": "5278e6b0",
   "metadata": {
    "_kg_hide-output": true,
    "execution": {
     "iopub.execute_input": "2023-09-19T18:33:54.176538Z",
     "iopub.status.busy": "2023-09-19T18:33:54.169688Z",
     "iopub.status.idle": "2023-09-19T20:19:49.101025Z",
     "shell.execute_reply": "2023-09-19T20:19:49.100357Z",
     "shell.execute_reply.started": "2023-09-19T16:19:44.318006Z"
    },
    "papermill": {
     "duration": 6354.970039,
     "end_time": "2023-09-19T20:19:49.101182",
     "exception": false,
     "start_time": "2023-09-19T18:33:54.131143",
     "status": "completed"
    },
    "tags": []
   },
   "outputs": [
    {
     "name": "stderr",
     "output_type": "stream",
     "text": [
      "/opt/conda/lib/python3.7/site-packages/torchtext/data/batch.py:23: UserWarning: Batch class will be retired soon and moved to torchtext.legacy. Please see the most recent release notes for further information.\n",
      "  warnings.warn('{} class will be retired soon and moved to torchtext.legacy. Please see the most recent release notes for further information.'.format(self.__class__.__name__), UserWarning)\n"
     ]
    },
    {
     "name": "stdout",
     "output_type": "stream",
     "text": [
      "train crossentropy at epoch 0 loss:  0.366098124377702\n",
      "validation crossentropy at epoch 0 loss:  0.10381165990828406\n",
      "train crossentropy at epoch 1 loss:  0.1219342910102257\n",
      "validation crossentropy at epoch 1 loss:  0.08679858395255398\n",
      "train crossentropy at epoch 2 loss:  0.10368049543859383\n",
      "validation crossentropy at epoch 2 loss:  0.080119845263142\n",
      "train crossentropy at epoch 3 loss:  0.09478889664603492\n",
      "validation crossentropy at epoch 3 loss:  0.07716589894165649\n",
      "train crossentropy at epoch 4 loss:  0.08926656988950366\n",
      "validation crossentropy at epoch 4 loss:  0.07397104660962142\n",
      "train crossentropy at epoch 5 loss:  0.08455073922360773\n",
      "validation crossentropy at epoch 5 loss:  0.07185130827660123\n",
      "train crossentropy at epoch 6 loss:  0.08182460718840547\n",
      "validation crossentropy at epoch 6 loss:  0.07015476253634043\n",
      "train crossentropy at epoch 7 loss:  0.0791000007326905\n",
      "validation crossentropy at epoch 7 loss:  0.06912038302291416\n",
      "train crossentropy at epoch 8 loss:  0.07688038708703604\n",
      "validation crossentropy at epoch 8 loss:  0.06852480272452037\n",
      "train crossentropy at epoch 9 loss:  0.07487108403805189\n",
      "validation crossentropy at epoch 9 loss:  0.06691651374646156\n",
      "train crossentropy at epoch 10 loss:  0.07346412092846064\n",
      "validation crossentropy at epoch 10 loss:  0.06649815056426533\n",
      "train crossentropy at epoch 11 loss:  0.0719442822913125\n",
      "validation crossentropy at epoch 11 loss:  0.06542890088934843\n",
      "train crossentropy at epoch 12 loss:  0.07049704687445559\n",
      "validation crossentropy at epoch 12 loss:  0.06568421867017014\n",
      "train crossentropy at epoch 13 loss:  0.06925641556987398\n",
      "validation crossentropy at epoch 13 loss:  0.06487618374128605\n",
      "train crossentropy at epoch 14 loss:  0.06820890769681476\n",
      "validation crossentropy at epoch 14 loss:  0.06458905148992246\n",
      "train crossentropy at epoch 15 loss:  0.06749063195124017\n",
      "validation crossentropy at epoch 15 loss:  0.06358951194387813\n",
      "train crossentropy at epoch 16 loss:  0.06623044524119168\n",
      "validation crossentropy at epoch 16 loss:  0.06322515144970753\n",
      "train crossentropy at epoch 17 loss:  0.06528744130103743\n",
      "validation crossentropy at epoch 17 loss:  0.06249228228919487\n",
      "train crossentropy at epoch 18 loss:  0.06448968738835907\n",
      "validation crossentropy at epoch 18 loss:  0.062247250305485384\n",
      "train crossentropy at epoch 19 loss:  0.06353597570439995\n",
      "validation crossentropy at epoch 19 loss:  0.06222413835877722\n",
      "train crossentropy at epoch 20 loss:  0.06302257720879499\n",
      "validation crossentropy at epoch 20 loss:  0.061954332678288274\n",
      "train crossentropy at epoch 21 loss:  0.06258758327223354\n",
      "validation crossentropy at epoch 21 loss:  0.061577002048067445\n",
      "train crossentropy at epoch 22 loss:  0.06178770756746088\n",
      "validation crossentropy at epoch 22 loss:  0.06131866455091406\n",
      "train crossentropy at epoch 23 loss:  0.0610508385150096\n",
      "validation crossentropy at epoch 23 loss:  0.060734517301255155\n",
      "train crossentropy at epoch 24 loss:  0.060676808022029106\n",
      "validation crossentropy at epoch 24 loss:  0.06094812247204908\n",
      "train crossentropy at epoch 25 loss:  0.060121008957653946\n",
      "validation crossentropy at epoch 25 loss:  0.061388432949701734\n",
      "train crossentropy at epoch 26 loss:  0.059773053947327716\n",
      "validation crossentropy at epoch 26 loss:  0.06084221370232668\n",
      "train crossentropy at epoch 27 loss:  0.05899025013057198\n",
      "validation crossentropy at epoch 27 loss:  0.06049400398013001\n",
      "train crossentropy at epoch 28 loss:  0.0584232506926282\n",
      "validation crossentropy at epoch 28 loss:  0.060357479720564024\n",
      "train crossentropy at epoch 29 loss:  0.0580440707742357\n",
      "validation crossentropy at epoch 29 loss:  0.060284446743972694\n",
      "train crossentropy at epoch 30 loss:  0.057395348602857686\n",
      "validation crossentropy at epoch 30 loss:  0.06081138411453807\n",
      "train crossentropy at epoch 31 loss:  0.05717663147489239\n",
      "validation crossentropy at epoch 31 loss:  0.05988514376555216\n",
      "train crossentropy at epoch 32 loss:  0.05680619846999539\n",
      "validation crossentropy at epoch 32 loss:  0.05973043001245262\n",
      "train crossentropy at epoch 33 loss:  0.05622094168837027\n",
      "validation crossentropy at epoch 33 loss:  0.05951977791447265\n",
      "train crossentropy at epoch 34 loss:  0.055832823329704025\n",
      "validation crossentropy at epoch 34 loss:  0.05966046669166834\n",
      "train crossentropy at epoch 35 loss:  0.0555951006030938\n",
      "validation crossentropy at epoch 35 loss:  0.0593251874769993\n",
      "train crossentropy at epoch 36 loss:  0.055054442714451146\n",
      "validation crossentropy at epoch 36 loss:  0.059261415895811693\n",
      "train crossentropy at epoch 37 loss:  0.05463315614720974\n",
      "validation crossentropy at epoch 37 loss:  0.05871916427185722\n",
      "train crossentropy at epoch 38 loss:  0.05441879535245108\n",
      "validation crossentropy at epoch 38 loss:  0.05948621798605524\n",
      "train crossentropy at epoch 39 loss:  0.05394823575121526\n",
      "validation crossentropy at epoch 39 loss:  0.058874683932744885\n",
      "train crossentropy at epoch 40 loss:  0.05365606765848494\n",
      "validation crossentropy at epoch 40 loss:  0.05894326153020383\n",
      "train crossentropy at epoch 41 loss:  0.053184535628538594\n",
      "validation crossentropy at epoch 41 loss:  0.05854776468453348\n",
      "train crossentropy at epoch 42 loss:  0.05313919603668426\n",
      "validation crossentropy at epoch 42 loss:  0.0587258176868134\n",
      "train crossentropy at epoch 43 loss:  0.05284714585138579\n",
      "validation crossentropy at epoch 43 loss:  0.05910977727688729\n",
      "train crossentropy at epoch 44 loss:  0.0523693176724987\n",
      "validation crossentropy at epoch 44 loss:  0.058622613833111556\n",
      "train crossentropy at epoch 45 loss:  0.05203514993955098\n",
      "validation crossentropy at epoch 45 loss:  0.05852050938163743\n",
      "train crossentropy at epoch 46 loss:  0.05173742137583476\n",
      "validation crossentropy at epoch 46 loss:  0.058495919271612976\n",
      "train crossentropy at epoch 47 loss:  0.05141529940271436\n",
      "validation crossentropy at epoch 47 loss:  0.05880211520800616\n",
      "train crossentropy at epoch 48 loss:  0.051376932524942215\n",
      "validation crossentropy at epoch 48 loss:  0.05882425205167815\n",
      "train crossentropy at epoch 49 loss:  0.05102462232707734\n",
      "validation crossentropy at epoch 49 loss:  0.05883094609454407\n",
      "train crossentropy at epoch 50 loss:  0.050779733600395664\n",
      "validation crossentropy at epoch 50 loss:  0.05807482070204886\n",
      "train crossentropy at epoch 51 loss:  0.050386618087142974\n",
      "validation crossentropy at epoch 51 loss:  0.05830911326482759\n",
      "train crossentropy at epoch 52 loss:  0.050149298658516396\n",
      "validation crossentropy at epoch 52 loss:  0.05869419159908877\n",
      "train crossentropy at epoch 53 loss:  0.04987627975343595\n",
      "validation crossentropy at epoch 53 loss:  0.05816514450067292\n",
      "train crossentropy at epoch 54 loss:  0.049781842831020426\n",
      "validation crossentropy at epoch 54 loss:  0.05811999885468294\n",
      "train crossentropy at epoch 55 loss:  0.04974039471529617\n",
      "validation crossentropy at epoch 55 loss:  0.058180306777490864\n",
      "train crossentropy at epoch 56 loss:  0.049166231278253654\n",
      "validation crossentropy at epoch 56 loss:  0.05833908634628841\n",
      "train crossentropy at epoch 57 loss:  0.04909758361548278\n",
      "validation crossentropy at epoch 57 loss:  0.05821024836331553\n",
      "train crossentropy at epoch 58 loss:  0.04864796688472794\n",
      "validation crossentropy at epoch 58 loss:  0.057915786568427365\n",
      "train crossentropy at epoch 59 loss:  0.04869093578666063\n",
      "validation crossentropy at epoch 59 loss:  0.05821661339033521\n",
      "train crossentropy at epoch 60 loss:  0.04812287320993528\n",
      "validation crossentropy at epoch 60 loss:  0.05816113702461469\n",
      "train crossentropy at epoch 61 loss:  0.04817663372164454\n",
      "validation crossentropy at epoch 61 loss:  0.05843802871026511\n",
      "train crossentropy at epoch 62 loss:  0.0477815446120676\n",
      "validation crossentropy at epoch 62 loss:  0.05811035233166288\n",
      "train crossentropy at epoch 63 loss:  0.04756036010653073\n",
      "validation crossentropy at epoch 63 loss:  0.05817186057155889\n",
      "train crossentropy at epoch 64 loss:  0.04747558116537322\n",
      "validation crossentropy at epoch 64 loss:  0.058485215637706714\n",
      "train crossentropy at epoch 65 loss:  0.04730830631566954\n",
      "validation crossentropy at epoch 65 loss:  0.05858383038365108\n",
      "train crossentropy at epoch 66 loss:  0.04700376624515634\n",
      "validation crossentropy at epoch 66 loss:  0.05881593878415817\n",
      "train crossentropy at epoch 67 loss:  0.04680947382310464\n",
      "validation crossentropy at epoch 67 loss:  0.05823178904931229\n",
      "train crossentropy at epoch 68 loss:  0.04663872979764131\n",
      "validation crossentropy at epoch 68 loss:  0.05842612449697313\n",
      "train crossentropy at epoch 69 loss:  0.04642585181630317\n",
      "validation crossentropy at epoch 69 loss:  0.05824995870949325\n",
      "train crossentropy at epoch 70 loss:  0.04650240211293141\n",
      "validation crossentropy at epoch 70 loss:  0.05849748863315678\n",
      "train crossentropy at epoch 71 loss:  0.045928692905004675\n",
      "validation crossentropy at epoch 71 loss:  0.05871325704715681\n",
      "train crossentropy at epoch 72 loss:  0.04585458973404369\n",
      "validation crossentropy at epoch 72 loss:  0.05846782667486\n",
      "train crossentropy at epoch 73 loss:  0.045651917686448315\n",
      "validation crossentropy at epoch 73 loss:  0.05858366191719199\n",
      "train crossentropy at epoch 74 loss:  0.045685415081413966\n",
      "validation crossentropy at epoch 74 loss:  0.05838177662920506\n",
      "train crossentropy at epoch 75 loss:  0.04535226920913709\n",
      "validation crossentropy at epoch 75 loss:  0.05849648928419154\n",
      "train crossentropy at epoch 76 loss:  0.045105012641334034\n",
      "validation crossentropy at epoch 76 loss:  0.05825866710182127\n",
      "train crossentropy at epoch 77 loss:  0.044794933398957903\n",
      "validation crossentropy at epoch 77 loss:  0.058656214286511806\n",
      "train crossentropy at epoch 78 loss:  0.04483725662973778\n",
      "validation crossentropy at epoch 78 loss:  0.05852527099656549\n",
      "train crossentropy at epoch 79 loss:  0.044432103400011476\n",
      "validation crossentropy at epoch 79 loss:  0.05866173856000212\n",
      "train crossentropy at epoch 80 loss:  0.0442544581762363\n",
      "validation crossentropy at epoch 80 loss:  0.058453251695701994\n",
      "train crossentropy at epoch 81 loss:  0.044237739385340785\n",
      "validation crossentropy at epoch 81 loss:  0.058416378749086256\n",
      "train crossentropy at epoch 82 loss:  0.04424771323823349\n",
      "validation crossentropy at epoch 82 loss:  0.058520266354588686\n",
      "train crossentropy at epoch 83 loss:  0.044104310531039574\n",
      "validation crossentropy at epoch 83 loss:  0.05833721860127653\n",
      "train crossentropy at epoch 84 loss:  0.04388978973905042\n",
      "validation crossentropy at epoch 84 loss:  0.058430928114383295\n",
      "train crossentropy at epoch 85 loss:  0.04353617300694006\n",
      "validation crossentropy at epoch 85 loss:  0.05833678596126789\n",
      "train crossentropy at epoch 86 loss:  0.04353837697973589\n",
      "validation crossentropy at epoch 86 loss:  0.05848837408291943\n",
      "train crossentropy at epoch 87 loss:  0.0434373234582269\n",
      "validation crossentropy at epoch 87 loss:  0.05873363521846539\n",
      "train crossentropy at epoch 88 loss:  0.04318091194797556\n",
      "validation crossentropy at epoch 88 loss:  0.05863451013763214\n",
      "train crossentropy at epoch 89 loss:  0.04321171558128934\n",
      "validation crossentropy at epoch 89 loss:  0.058915138135061544\n",
      "train crossentropy at epoch 90 loss:  0.04299439767493562\n",
      "validation crossentropy at epoch 90 loss:  0.05888859689760283\n",
      "train crossentropy at epoch 91 loss:  0.0426653389429323\n",
      "validation crossentropy at epoch 91 loss:  0.058610954479631466\n",
      "train crossentropy at epoch 92 loss:  0.04249578996176809\n",
      "validation crossentropy at epoch 92 loss:  0.05882626830694829\n",
      "train crossentropy at epoch 93 loss:  0.04248340542359239\n",
      "validation crossentropy at epoch 93 loss:  0.05890099786939149\n",
      "train crossentropy at epoch 94 loss:  0.04236082394875712\n",
      "validation crossentropy at epoch 94 loss:  0.05896458342512024\n",
      "train crossentropy at epoch 95 loss:  0.04230708810463415\n",
      "validation crossentropy at epoch 95 loss:  0.05893520483126243\n",
      "train crossentropy at epoch 96 loss:  0.041990111887298794\n",
      "validation crossentropy at epoch 96 loss:  0.058945639882362885\n",
      "train crossentropy at epoch 97 loss:  0.04195533071235022\n",
      "validation crossentropy at epoch 97 loss:  0.058833995936919875\n",
      "train crossentropy at epoch 98 loss:  0.04172259900448088\n",
      "validation crossentropy at epoch 98 loss:  0.05891009329846411\n",
      "train crossentropy at epoch 99 loss:  0.04169747230981499\n",
      "validation crossentropy at epoch 99 loss:  0.0587601101427686\n"
     ]
    }
   ],
   "source": [
    "\"\"\"\n",
    "I'm using adagrad because it assigns bigger updates to less frequently updated weights so \n",
    "so thought it could be useful for words not used a lot \n",
    "\"\"\"\n",
    "\n",
    "optimizer = optim.Adagrad(model.parameters(),lr = 0.003)\n",
    "EPOCHS = 100\n",
    "\n",
    "\n",
    "pad_idx = SRC.vocab.stoi[\"<pad>\"]\n",
    "criterion = nn.CrossEntropyLoss(ignore_index=pad_idx) \n",
    "\n",
    "for i in range(0,EPOCHS):\n",
    "    stepLoss=[]\n",
    "    model.train() # the training mode for the model (applies dropout and batchnorms)\n",
    "    for batch  in train_iterator:\n",
    "        input_sentence = batch.ban.to(device)\n",
    "        trg = batch.ipa.to(device)\n",
    "\n",
    "        optimizer.zero_grad()\n",
    "        out = model(input_sentence,trg[:-1])\n",
    "        out = out.reshape(-1,trg_vocab_size)\n",
    "        trg = trg[1:].reshape(-1)\n",
    "        loss = criterion(out,trg)\n",
    "        \n",
    "        \n",
    "        loss.backward()\n",
    "        optimizer.step()\n",
    "        stepLoss.append(loss.item())\n",
    "        \n",
    "\n",
    "    loss_track.append(np.mean(stepLoss))\n",
    "    print(\"train crossentropy at epoch {} loss: \".format(i),np.mean(stepLoss))\n",
    "    \n",
    "    stepValidLoss=[]\n",
    "    model.eval() # the evaluation mode for the model (doesn't apply dropout and batchNorm)\n",
    "    for batch  in valid_iterator:\n",
    "        input_sentence = batch.ban.to(device)\n",
    "        trg = batch.ipa.to(device)\n",
    "\n",
    "        optimizer.zero_grad()\n",
    "        out = model(input_sentence,trg[:-1])\n",
    "        out = out.reshape(-1,trg_vocab_size)\n",
    "        trg = trg[1:].reshape(-1)\n",
    "        loss = criterion(out,trg) #+ torch.norm(out - trg)\n",
    "        \n",
    "        stepValidLoss.append(loss.item())\n",
    "  \n",
    "    loss_validation_track.append(np.mean(stepValidLoss))\n",
    "    print(\"validation crossentropy at epoch {} loss: \".format(i),np.mean(stepValidLoss))\n",
    "    \n",
    "    \n",
    "        "
   ]
  },
  {
   "cell_type": "code",
   "execution_count": null,
   "id": "04cca3f3",
   "metadata": {
    "papermill": {
     "duration": 0.096026,
     "end_time": "2023-09-19T20:19:49.291471",
     "exception": false,
     "start_time": "2023-09-19T20:19:49.195445",
     "status": "completed"
    },
    "tags": []
   },
   "outputs": [],
   "source": []
  },
  {
   "cell_type": "code",
   "execution_count": 11,
   "id": "0b9af497",
   "metadata": {
    "execution": {
     "iopub.execute_input": "2023-09-19T20:19:49.482669Z",
     "iopub.status.busy": "2023-09-19T20:19:49.481869Z",
     "iopub.status.idle": "2023-09-19T20:19:49.740325Z",
     "shell.execute_reply": "2023-09-19T20:19:49.739488Z",
     "shell.execute_reply.started": "2023-09-19T18:04:30.149750Z"
    },
    "papermill": {
     "duration": 0.355074,
     "end_time": "2023-09-19T20:19:49.740453",
     "exception": false,
     "start_time": "2023-09-19T20:19:49.385379",
     "status": "completed"
    },
    "tags": []
   },
   "outputs": [
    {
     "data": {
      "image/png": "[encoded data removed]",
      "text/plain": [
       "<Figure size 720x360 with 1 Axes>"
      ]
     },
     "metadata": {
      "needs_background": "light"
     },
     "output_type": "display_data"
    }
   ],
   "source": [
    "import matplotlib.pyplot as plt \n",
    "\n",
    "#the train loss after 50 epoch\n",
    "plt.figure(figsize=(10,5))\n",
    "plt.plot(range(100),loss_track,label=\"train loss\")\n",
    "plt.plot(range(100),loss_validation_track,label=\"valiadtion loss\")\n",
    "plt.legend()\n",
    "plt.show()"
   ]
  },
  {
   "cell_type": "code",
   "execution_count": 12,
   "id": "560ce8d3",
   "metadata": {
    "execution": {
     "iopub.execute_input": "2023-09-19T20:19:49.940407Z",
     "iopub.status.busy": "2023-09-19T20:19:49.938640Z",
     "iopub.status.idle": "2023-09-19T20:19:49.941123Z",
     "shell.execute_reply": "2023-09-19T20:19:49.941589Z",
     "shell.execute_reply.started": "2023-09-19T18:04:30.430967Z"
    },
    "papermill": {
     "duration": 0.105976,
     "end_time": "2023-09-19T20:19:49.941756",
     "exception": false,
     "start_time": "2023-09-19T20:19:49.835780",
     "status": "completed"
    },
    "tags": []
   },
   "outputs": [],
   "source": [
    "\n",
    "\n",
    "def translate(model,sentence,srcField,targetField,srcTokenizer):\n",
    "    model.eval()\n",
    "    processed_sentence = srcField.process([srcTokenizer(sentence)]).to(device)\n",
    "    trg = [\"<sos>\"]\n",
    "    for _ in range(60):\n",
    "        \n",
    "        trg_indecies = [targetField.vocab.stoi[word] for word in trg]\n",
    "        outputs = torch.Tensor(trg_indecies).unsqueeze(1).to(device)\n",
    "        outputs = model(processed_sentence,outputs)\n",
    "        \n",
    "        if targetField.vocab.itos[outputs.argmax(2)[-1:].item()] == \"<unk>\":\n",
    "            continue \n",
    "        trg.append(targetField.vocab.itos[outputs.argmax(2)[-1:].item()])\n",
    "        if targetField.vocab.itos[outputs.argmax(2)[-1:].item()] == \"<eos>\":\n",
    "            break\n",
    "    return \" \".join([word for word in trg if word != \"<unk>\"][1:-1])\n",
    "    \n",
    "    "
   ]
  },
  {
   "cell_type": "code",
   "execution_count": 13,
   "id": "fa3a59a3",
   "metadata": {
    "execution": {
     "iopub.execute_input": "2023-09-19T20:19:50.135908Z",
     "iopub.status.busy": "2023-09-19T20:19:50.135033Z",
     "iopub.status.idle": "2023-09-19T20:19:50.209657Z",
     "shell.execute_reply": "2023-09-19T20:19:50.209198Z",
     "shell.execute_reply.started": "2023-09-19T18:04:30.444985Z"
    },
    "papermill": {
     "duration": 0.173728,
     "end_time": "2023-09-19T20:19:50.209825",
     "exception": false,
     "start_time": "2023-09-19T20:19:50.036097",
     "status": "completed"
    },
    "tags": []
   },
   "outputs": [
    {
     "data": {
      "text/plain": [
       "'g a ɟ i p u r e r'"
      ]
     },
     "execution_count": 13,
     "metadata": {},
     "output_type": "execute_result"
    }
   ],
   "source": [
    "translate(model,\"গাজীপুরের\" ,SRC,TARGET,myTokenizerBAN)"
   ]
  },
  {
   "cell_type": "code",
   "execution_count": 14,
   "id": "580687f8",
   "metadata": {
    "execution": {
     "iopub.execute_input": "2023-09-19T20:19:50.407411Z",
     "iopub.status.busy": "2023-09-19T20:19:50.406510Z",
     "iopub.status.idle": "2023-09-19T20:19:50.436697Z",
     "shell.execute_reply": "2023-09-19T20:19:50.437216Z",
     "shell.execute_reply.started": "2023-09-19T18:04:30.522378Z"
    },
    "papermill": {
     "duration": 0.130305,
     "end_time": "2023-09-19T20:19:50.437358",
     "exception": false,
     "start_time": "2023-09-19T20:19:50.307053",
     "status": "completed"
    },
    "tags": []
   },
   "outputs": [
    {
     "data": {
      "text/plain": [
       "'ami'"
      ]
     },
     "execution_count": 14,
     "metadata": {},
     "output_type": "execute_result"
    }
   ],
   "source": [
    "translate(model,\"আমি\" ,SRC,TARGET, myTokenizerBAN).replace(' ','')"
   ]
  },
  {
   "cell_type": "code",
   "execution_count": 15,
   "id": "9f9fbd1e",
   "metadata": {
    "execution": {
     "iopub.execute_input": "2023-09-19T20:19:50.632438Z",
     "iopub.status.busy": "2023-09-19T20:19:50.631537Z",
     "iopub.status.idle": "2023-09-19T20:19:50.708295Z",
     "shell.execute_reply": "2023-09-19T20:19:50.707735Z",
     "shell.execute_reply.started": "2023-09-19T18:04:30.558742Z"
    },
    "papermill": {
     "duration": 0.176297,
     "end_time": "2023-09-19T20:19:50.708411",
     "exception": false,
     "start_time": "2023-09-19T20:19:50.532114",
     "status": "completed"
    },
    "tags": []
   },
   "outputs": [
    {
     "data": {
      "text/plain": [
       "'haʃpat̪aler'"
      ]
     },
     "execution_count": 15,
     "metadata": {},
     "output_type": "execute_result"
    }
   ],
   "source": [
    "translate(model,\"হাসপাতালের\" ,SRC,TARGET,myTokenizerBAN).replace(' ','')"
   ]
  },
  {
   "cell_type": "code",
   "execution_count": 16,
   "id": "999589a6",
   "metadata": {
    "execution": {
     "iopub.execute_input": "2023-09-19T20:19:50.903395Z",
     "iopub.status.busy": "2023-09-19T20:19:50.902506Z",
     "iopub.status.idle": "2023-09-19T20:19:50.997272Z",
     "shell.execute_reply": "2023-09-19T20:19:50.996764Z",
     "shell.execute_reply.started": "2023-09-19T18:04:30.643715Z"
    },
    "papermill": {
     "duration": 0.194156,
     "end_time": "2023-09-19T20:19:50.997387",
     "exception": false,
     "start_time": "2023-09-19T20:19:50.803231",
     "status": "completed"
    },
    "tags": []
   },
   "outputs": [
    {
     "data": {
      "text/plain": [
       "'upoporid̪ɔrʃok'"
      ]
     },
     "execution_count": 16,
     "metadata": {},
     "output_type": "execute_result"
    }
   ],
   "source": [
    "translate(model,\"উপপরিদর্শক\" ,SRC,TARGET,myTokenizerBAN).replace(' ','')"
   ]
  },
  {
   "cell_type": "code",
   "execution_count": 17,
   "id": "256bece4",
   "metadata": {
    "execution": {
     "iopub.execute_input": "2023-09-19T20:19:51.193790Z",
     "iopub.status.busy": "2023-09-19T20:19:51.192908Z",
     "iopub.status.idle": "2023-09-19T20:19:51.304909Z",
     "shell.execute_reply": "2023-09-19T20:19:51.304388Z",
     "shell.execute_reply.started": "2023-09-19T18:04:30.745069Z"
    },
    "papermill": {
     "duration": 0.211369,
     "end_time": "2023-09-19T20:19:51.305028",
     "exception": false,
     "start_time": "2023-09-19T20:19:51.093659",
     "status": "completed"
    },
    "tags": []
   },
   "outputs": [
    {
     "data": {
      "text/plain": [
       "'upoporid̪ɔrʃoker'"
      ]
     },
     "execution_count": 17,
     "metadata": {},
     "output_type": "execute_result"
    }
   ],
   "source": [
    "translate(model,\"উপপরিদর্শকের\" ,SRC,TARGET,myTokenizerBAN).replace(' ','')"
   ]
  },
  {
   "cell_type": "code",
   "execution_count": 18,
   "id": "60912891",
   "metadata": {
    "execution": {
     "iopub.execute_input": "2023-09-19T20:19:51.502077Z",
     "iopub.status.busy": "2023-09-19T20:19:51.501195Z",
     "iopub.status.idle": "2023-09-19T20:19:51.580080Z",
     "shell.execute_reply": "2023-09-19T20:19:51.580560Z",
     "shell.execute_reply.started": "2023-09-19T18:04:30.859869Z"
    },
    "papermill": {
     "duration": 0.179178,
     "end_time": "2023-09-19T20:19:51.580695",
     "exception": false,
     "start_time": "2023-09-19T20:19:51.401517",
     "status": "completed"
    },
    "tags": []
   },
   "outputs": [
    {
     "data": {
      "text/plain": [
       "'upost̪ʰit̪i'"
      ]
     },
     "execution_count": 18,
     "metadata": {},
     "output_type": "execute_result"
    }
   ],
   "source": [
    "translate(model,\"উপস্থিতি\" ,SRC,TARGET,myTokenizerBAN).replace(' ','')"
   ]
  },
  {
   "cell_type": "code",
   "execution_count": 19,
   "id": "2bed8d7c",
   "metadata": {
    "execution": {
     "iopub.execute_input": "2023-09-19T20:19:51.781199Z",
     "iopub.status.busy": "2023-09-19T20:19:51.780290Z",
     "iopub.status.idle": "2023-09-19T20:19:51.851105Z",
     "shell.execute_reply": "2023-09-19T20:19:51.851535Z",
     "shell.execute_reply.started": "2023-09-19T18:04:30.948571Z"
    },
    "papermill": {
     "duration": 0.171523,
     "end_time": "2023-09-19T20:19:51.851672",
     "exception": false,
     "start_time": "2023-09-19T20:19:51.680149",
     "status": "completed"
    },
    "tags": []
   },
   "outputs": [
    {
     "data": {
      "text/plain": [
       "'at̪ɔŋkit̪o'"
      ]
     },
     "execution_count": 19,
     "metadata": {},
     "output_type": "execute_result"
    }
   ],
   "source": [
    "translate(model,\"আতঙ্কিত\" ,SRC,TARGET,myTokenizerBAN).replace(' ','')"
   ]
  },
  {
   "cell_type": "code",
   "execution_count": 20,
   "id": "ac764c31",
   "metadata": {
    "execution": {
     "iopub.execute_input": "2023-09-19T20:19:52.048883Z",
     "iopub.status.busy": "2023-09-19T20:19:52.048024Z",
     "iopub.status.idle": "2023-09-19T20:19:52.102349Z",
     "shell.execute_reply": "2023-09-19T20:19:52.101873Z",
     "shell.execute_reply.started": "2023-09-19T18:04:31.026348Z"
    },
    "papermill": {
     "duration": 0.153056,
     "end_time": "2023-09-19T20:19:52.102469",
     "exception": false,
     "start_time": "2023-09-19T20:19:51.949413",
     "status": "completed"
    },
    "tags": []
   },
   "outputs": [
    {
     "data": {
      "text/plain": [
       "'t̪ad̪er'"
      ]
     },
     "execution_count": 20,
     "metadata": {},
     "output_type": "execute_result"
    }
   ],
   "source": [
    "translate(model,\"তাঁদের\" ,SRC,TARGET,myTokenizerBAN).replace(' ','') \n"
   ]
  },
  {
   "cell_type": "code",
   "execution_count": 21,
   "id": "fcd3e9ca",
   "metadata": {
    "execution": {
     "iopub.execute_input": "2023-09-19T20:19:52.304133Z",
     "iopub.status.busy": "2023-09-19T20:19:52.303239Z",
     "iopub.status.idle": "2023-09-19T20:19:52.361843Z",
     "shell.execute_reply": "2023-09-19T20:19:52.361344Z",
     "shell.execute_reply.started": "2023-09-19T18:04:31.085715Z"
    },
    "papermill": {
     "duration": 0.162572,
     "end_time": "2023-09-19T20:19:52.361968",
     "exception": false,
     "start_time": "2023-09-19T20:19:52.199396",
     "status": "completed"
    },
    "tags": []
   },
   "outputs": [
    {
     "data": {
      "text/plain": [
       "'goʲend̪a'"
      ]
     },
     "execution_count": 21,
     "metadata": {},
     "output_type": "execute_result"
    }
   ],
   "source": [
    "#mistake\n",
    "translate(model,\"গোয়েন্দা\" ,SRC,TARGET,myTokenizerBAN).replace(' ','')\n"
   ]
  },
  {
   "cell_type": "code",
   "execution_count": 22,
   "id": "208e1cac",
   "metadata": {
    "execution": {
     "iopub.execute_input": "2023-09-19T20:19:52.562846Z",
     "iopub.status.busy": "2023-09-19T20:19:52.561947Z",
     "iopub.status.idle": "2023-09-19T20:19:52.620675Z",
     "shell.execute_reply": "2023-09-19T20:19:52.620196Z",
     "shell.execute_reply.started": "2023-09-19T18:04:31.151349Z"
    },
    "papermill": {
     "duration": 0.160467,
     "end_time": "2023-09-19T20:19:52.620821",
     "exception": false,
     "start_time": "2023-09-19T20:19:52.460354",
     "status": "completed"
    },
    "tags": []
   },
   "outputs": [
    {
     "data": {
      "text/plain": [
       "'ɔŋʃohari'"
      ]
     },
     "execution_count": 22,
     "metadata": {},
     "output_type": "execute_result"
    }
   ],
   "source": [
    "#mistake\n",
    "translate(model,\"অংশহারী\" ,SRC,TARGET,myTokenizerBAN).replace(' ','')\n",
    "\n"
   ]
  },
  {
   "cell_type": "code",
   "execution_count": 23,
   "id": "2b8963f0",
   "metadata": {
    "execution": {
     "iopub.execute_input": "2023-09-19T20:19:52.819382Z",
     "iopub.status.busy": "2023-09-19T20:19:52.818541Z",
     "iopub.status.idle": "2023-09-19T20:19:52.824505Z",
     "shell.execute_reply": "2023-09-19T20:19:52.824981Z",
     "shell.execute_reply.started": "2023-09-19T18:04:31.216177Z"
    },
    "papermill": {
     "duration": 0.106609,
     "end_time": "2023-09-19T20:19:52.825123",
     "exception": false,
     "start_time": "2023-09-19T20:19:52.718514",
     "status": "completed"
    },
    "tags": []
   },
   "outputs": [],
   "source": [
    "def process_word(word):\n",
    "    # Replace this function with your desired processing logic for each word\n",
    "    print(\"Processing word:\", word)\n",
    "    ipa_converted_word = translate(model,word,SRC,TARGET,myTokenizerBAN).replace(' ','')\n",
    "    print(\"After Conversion to IPA:\", ipa_converted_word)\n",
    "\n",
    "def traverse_text_file(file_path):\n",
    "    with open(file_path, 'r', encoding='utf-8') as file:\n",
    "        for line in file:\n",
    "            word = line.strip()  # Remove leading/trailing whitespace and newline characters\n",
    "            process_word(word)"
   ]
  },
  {
   "cell_type": "code",
   "execution_count": 24,
   "id": "7db2f1b7",
   "metadata": {
    "execution": {
     "iopub.execute_input": "2023-09-19T20:19:53.024991Z",
     "iopub.status.busy": "2023-09-19T20:19:53.024090Z",
     "iopub.status.idle": "2023-09-19T20:19:53.026649Z",
     "shell.execute_reply": "2023-09-19T20:19:53.026064Z",
     "shell.execute_reply.started": "2023-09-19T18:04:31.224689Z"
    },
    "papermill": {
     "duration": 0.103406,
     "end_time": "2023-09-19T20:19:53.026778",
     "exception": false,
     "start_time": "2023-09-19T20:19:52.923372",
     "status": "completed"
    },
    "tags": []
   },
   "outputs": [],
   "source": [
    "# if __name__ == \"__main__\":\n",
    "#     file_path = \"/kaggle/input/raw-words/words.txt\"  # Replace with the path to your text file\n",
    "#     traverse_text_file(file_path)"
   ]
  },
  {
   "cell_type": "code",
   "execution_count": 25,
   "id": "420355e5",
   "metadata": {
    "execution": {
     "iopub.execute_input": "2023-09-19T20:19:53.227557Z",
     "iopub.status.busy": "2023-09-19T20:19:53.226849Z",
     "iopub.status.idle": "2023-09-19T20:19:53.282499Z",
     "shell.execute_reply": "2023-09-19T20:19:53.281955Z",
     "shell.execute_reply.started": "2023-09-19T18:04:31.240253Z"
    },
    "papermill": {
     "duration": 0.157225,
     "end_time": "2023-09-19T20:19:53.282632",
     "exception": false,
     "start_time": "2023-09-19T20:19:53.125407",
     "status": "completed"
    },
    "tags": []
   },
   "outputs": [],
   "source": [
    "import torch\n",
    "\n",
    "# Assuming 'model' is your translation model\n",
    "torch.save(model.state_dict(), 'ipa_model.pth')\n"
   ]
  },
  {
   "cell_type": "code",
   "execution_count": 26,
   "id": "e3c6c771",
   "metadata": {
    "execution": {
     "iopub.execute_input": "2023-09-19T20:19:53.488397Z",
     "iopub.status.busy": "2023-09-19T20:19:53.487579Z",
     "iopub.status.idle": "2023-09-19T20:19:53.489921Z",
     "shell.execute_reply": "2023-09-19T20:19:53.490449Z",
     "shell.execute_reply.started": "2023-09-19T18:04:31.300252Z"
    },
    "papermill": {
     "duration": 0.104806,
     "end_time": "2023-09-19T20:19:53.490596",
     "exception": false,
     "start_time": "2023-09-19T20:19:53.385790",
     "status": "completed"
    },
    "tags": []
   },
   "outputs": [],
   "source": [
    "model_path = \"/kaggle/working/ipa_model.pth\""
   ]
  },
  {
   "cell_type": "code",
   "execution_count": 27,
   "id": "1c7a601b",
   "metadata": {
    "execution": {
     "iopub.execute_input": "2023-09-19T20:19:53.696389Z",
     "iopub.status.busy": "2023-09-19T20:19:53.689545Z",
     "iopub.status.idle": "2023-09-19T20:19:53.698942Z",
     "shell.execute_reply": "2023-09-19T20:19:53.698405Z",
     "shell.execute_reply.started": "2023-09-19T18:04:31.306093Z"
    },
    "papermill": {
     "duration": 0.110846,
     "end_time": "2023-09-19T20:19:53.699064",
     "exception": false,
     "start_time": "2023-09-19T20:19:53.588218",
     "status": "completed"
    },
    "tags": []
   },
   "outputs": [],
   "source": [
    "class BanglaIPATranslator:\n",
    "    def __init__(self, model_path):\n",
    "        \n",
    "        self.model = self.load_model(model_path)\n",
    "\n",
    "    def load_model(self, model_path):\n",
    "        model = TranslateTransformer(\n",
    "            embedding_size,\n",
    "            len(SRC.vocab),\n",
    "            len(TARGET.vocab),\n",
    "            SRC.vocab.stoi[\"<pad>\"],\n",
    "            num_heads,\n",
    "            num_encoder_layers,\n",
    "            num_decoder_layers,\n",
    "            max_len\n",
    "        ).to(device)\n",
    "        model.load_state_dict(torch.load(model_path))\n",
    "        return model\n",
    "\n",
    "    def translate(self, sentence):\n",
    "        self.model.eval()\n",
    "        processed_sentence = SRC.process([myTokenizerBAN(sentence)]).to(device)\n",
    "        trg = [\"<sos>\"]\n",
    "        for _ in range(60):\n",
    "            trg_indices = [TARGET.vocab.stoi[word] for word in trg]\n",
    "            outputs = torch.Tensor(trg_indices).unsqueeze(1).to(device)\n",
    "            outputs = self.model(processed_sentence, outputs)\n",
    "\n",
    "            predicted_word = TARGET.vocab.itos[outputs.argmax(2)[-1:].item()]\n",
    "            if predicted_word == \"<unk>\":\n",
    "                continue\n",
    "            trg.append(predicted_word)\n",
    "            if predicted_word == \"<eos>\":\n",
    "                break\n",
    "        return \" \".join([word for word in trg if word != \"<unk>\"][1:-1])\n",
    "\n"
   ]
  },
  {
   "cell_type": "code",
   "execution_count": 28,
   "id": "a2f4cfd1",
   "metadata": {
    "execution": {
     "iopub.execute_input": "2023-09-19T20:19:53.901256Z",
     "iopub.status.busy": "2023-09-19T20:19:53.900500Z",
     "iopub.status.idle": "2023-09-19T20:19:54.075002Z",
     "shell.execute_reply": "2023-09-19T20:19:54.075445Z",
     "shell.execute_reply.started": "2023-09-19T18:04:31.320236Z"
    },
    "papermill": {
     "duration": 0.278967,
     "end_time": "2023-09-19T20:19:54.075611",
     "exception": false,
     "start_time": "2023-09-19T20:19:53.796644",
     "status": "completed"
    },
    "tags": []
   },
   "outputs": [
    {
     "name": "stdout",
     "output_type": "stream",
     "text": [
      "h a ʃ p a t ̪ a l e r\n"
     ]
    }
   ],
   "source": [
    "# Usage Example:\n",
    "\n",
    "# Initialize the translator with the path to the saved model\n",
    "translator = BanglaIPATranslator(model_path)\n",
    "\n",
    "# Translate a Bangla word to IPA\n",
    "translated_ipa = translator.translate(\"হাসপাতালের\")\n",
    "print(translated_ipa)"
   ]
  },
  {
   "cell_type": "code",
   "execution_count": 29,
   "id": "e2b1dcd2",
   "metadata": {
    "execution": {
     "iopub.execute_input": "2023-09-19T20:19:54.278629Z",
     "iopub.status.busy": "2023-09-19T20:19:54.277237Z",
     "iopub.status.idle": "2023-09-19T20:19:54.352512Z",
     "shell.execute_reply": "2023-09-19T20:19:54.352982Z",
     "shell.execute_reply.started": "2023-09-19T18:04:31.509803Z"
    },
    "papermill": {
     "duration": 0.178518,
     "end_time": "2023-09-19T20:19:54.353135",
     "exception": false,
     "start_time": "2023-09-19T20:19:54.174617",
     "status": "completed"
    },
    "tags": []
   },
   "outputs": [
    {
     "data": {
      "text/plain": [
       "'at̪ɔŋkit̪o'"
      ]
     },
     "execution_count": 29,
     "metadata": {},
     "output_type": "execute_result"
    }
   ],
   "source": [
    "translate(model,\"আতঙ্কিত\" ,SRC,TARGET,myTokenizerBAN).replace(' ','')"
   ]
  },
  {
   "cell_type": "code",
   "execution_count": null,
   "id": "4a56dbab",
   "metadata": {
    "papermill": {
     "duration": 0.097545,
     "end_time": "2023-09-19T20:19:54.550203",
     "exception": false,
     "start_time": "2023-09-19T20:19:54.452658",
     "status": "completed"
    },
    "tags": []
   },
   "outputs": [],
   "source": []
  },
  {
   "cell_type": "code",
   "execution_count": null,
   "id": "c03c3d07",
   "metadata": {
    "papermill": {
     "duration": 0.097846,
     "end_time": "2023-09-19T20:19:54.745830",
     "exception": false,
     "start_time": "2023-09-19T20:19:54.647984",
     "status": "completed"
    },
    "tags": []
   },
   "outputs": [],
   "source": []
  },
  {
   "cell_type": "markdown",
   "id": "d6d900c5",
   "metadata": {
    "papermill": {
     "duration": 0.097791,
     "end_time": "2023-09-19T20:19:54.941481",
     "exception": false,
     "start_time": "2023-09-19T20:19:54.843690",
     "status": "completed"
    },
    "tags": []
   },
   "source": [
    "as the model doesn't have a significant performance, I think it needs more epochs and much more data (maybe it needs to be bigger also but we have limited ram ) "
   ]
  }
 ],
 "metadata": {
  "kernelspec": {
   "display_name": "Python 3",
   "language": "python",
   "name": "python3"
  },
  "language_info": {
   "codemirror_mode": {
    "name": "ipython",
    "version": 3
   },
   "file_extension": ".py",
   "mimetype": "text/x-python",
   "name": "python",
   "nbconvert_exporter": "python",
   "pygments_lexer": "ipython3",
   "version": "3.7.10"
  },
  "papermill": {
   "default_parameters": {},
   "duration": 6419.50156,
   "end_time": "2023-09-19T20:19:58.095114",
   "environment_variables": {},
   "exception": null,
   "input_path": "__notebook__.ipynb",
   "output_path": "__notebook__.ipynb",
   "parameters": {},
   "start_time": "2023-09-19T18:32:58.593554",
   "version": "2.3.3"
  }
 },
 "nbformat": 4,
 "nbformat_minor": 5
}
