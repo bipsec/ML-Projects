{
 "cells": [
  {
   "cell_type": "markdown",
   "id": "972bcf66",
   "metadata": {
    "papermill": {
     "duration": 0.004499,
     "end_time": "2024-04-07T22:57:03.441705",
     "exception": false,
     "start_time": "2024-04-07T22:57:03.437206",
     "status": "completed"
    },
    "tags": []
   },
   "source": [
    "# Introduction"
   ]
  },
  {
   "cell_type": "markdown",
   "id": "ee82262e",
   "metadata": {
    "papermill": {
     "duration": 0.003668,
     "end_time": "2024-04-07T22:57:03.449680",
     "exception": false,
     "start_time": "2024-04-07T22:57:03.446012",
     "status": "completed"
    },
    "tags": []
   },
   "source": [
    "This competetion holds regional dialects on common subjects from 373 people representing diverse regional dialects across ten geographical areas like Rangpur, Kishoreganj, Narail, Chittagong, Narsingdi, Tangail, Barishal, Habiganj, Sylhet, and Sandwip. \n",
    "\n",
    "Here I have used tugstugi model for inference. The model includes:\n",
    "\n",
    "## STT Model:\n",
    "\n",
    "* OpenAI whisper-medium\n",
    "* Huggingface trainer\n",
    "* Trained on 8x 48GB RTX A6000\n",
    "* bs=8 and lr=1e-5\n",
    "* Train steps 50k\n",
    "* Spectrogram dithering\n",
    "* Spectrogram time and frequency masking\n",
    "* Resampling 16khz->8khz->16khz as augmentation\n",
    "* Inference with max_length=260, num_beams=4 and chunk_length_s=20.1s\n",
    "* Libsonic based speed/pitch augmentation\n",
    "* Datasets: OpenSLR 37, OpenSLR 53, MadASR, Shrutilipi, Macro, Kathbath, GoogleTTS generated audios and pseudo labeled YouTube videos\n",
    "\n",
    "## Punctuation Model:\n",
    "\n",
    "* AutoModelForTokenClassification google/muril-base-cased\n",
    "* Huggingface trainer\n",
    "* Labels: period, comma and question mark\n",
    "* bs=64, lr=2e-4 and max_seq_length=512\n",
    "* Ensemble of 4 models (using 6, 8, 11 and 12 layers of google/muril-base-cased)\n",
    "* Normalized IndicCorp v2 Bangla dataset\n",
    "\n",
    "model weight and inference notebook: https://www.kaggle.com/competitions/bengaliai-speech/discussion/447970"
   ]
  },
  {
   "cell_type": "code",
   "execution_count": 1,
   "id": "430fc2ee",
   "metadata": {
    "execution": {
     "iopub.execute_input": "2024-04-07T22:57:03.459188Z",
     "iopub.status.busy": "2024-04-07T22:57:03.458336Z",
     "iopub.status.idle": "2024-04-07T22:57:37.327616Z",
     "shell.execute_reply": "2024-04-07T22:57:37.326452Z"
    },
    "papermill": {
     "duration": 33.877177,
     "end_time": "2024-04-07T22:57:37.330611",
     "exception": false,
     "start_time": "2024-04-07T22:57:03.453434",
     "status": "completed"
    },
    "tags": []
   },
   "outputs": [
    {
     "name": "stdout",
     "output_type": "stream",
     "text": [
      "cp: cannot stat '/kaggle/input/bengali-eval-data/predict.py': No such file or directory\r\n",
      "jiwer/\r\n",
      "jiwer/jiwer-2.3.0-py3-none-any.whl\r\n",
      "jiwer/python-Levenshtein-0.12.2.tar.gz\r\n",
      "jiwer/setuptools-65.3.0-py3-none-any.whl\r\n",
      "Looking in links: ./\r\n",
      "Processing ./jiwer/python-Levenshtein-0.12.2.tar.gz\r\n",
      "  Preparing metadata (setup.py) ... \u001b[?25l-\b \bdone\r\n",
      "\u001b[?25hRequirement already satisfied: setuptools in /opt/conda/lib/python3.10/site-packages (from python-Levenshtein==0.12.2) (69.0.3)\r\n",
      "Building wheels for collected packages: python-Levenshtein\r\n",
      "  Building wheel for python-Levenshtein (setup.py) ... \u001b[?25l-\b \b\\\b \b|\b \bdone\r\n",
      "\u001b[?25h  Created wheel for python-Levenshtein: filename=python_Levenshtein-0.12.2-cp310-cp310-linux_x86_64.whl size=79809 sha256=39fbcb21a9e05ceedd2068832039615136ea257aa2e45a37347551b768564888\r\n",
      "  Stored in directory: /root/.cache/pip/wheels/f1/ab/b1/90d2068d73d15e52c1a65676d269a9f043b61221a29f7298e7\r\n",
      "Successfully built python-Levenshtein\r\n",
      "Installing collected packages: python-Levenshtein\r\n",
      "  Attempting uninstall: python-Levenshtein\r\n",
      "    Found existing installation: python-Levenshtein 0.25.0\r\n",
      "    Uninstalling python-Levenshtein-0.25.0:\r\n",
      "      Successfully uninstalled python-Levenshtein-0.25.0\r\n",
      "Successfully installed python-Levenshtein-0.12.2\r\n",
      "Looking in links: ./\r\n",
      "Processing ./jiwer/jiwer-2.3.0-py3-none-any.whl\r\n",
      "Requirement already satisfied: python-Levenshtein==0.12.2 in /opt/conda/lib/python3.10/site-packages (from jiwer==2.3.0) (0.12.2)\r\n",
      "Requirement already satisfied: setuptools in /opt/conda/lib/python3.10/site-packages (from python-Levenshtein==0.12.2->jiwer==2.3.0) (69.0.3)\r\n",
      "Installing collected packages: jiwer\r\n",
      "Successfully installed jiwer-2.3.0\r\n"
     ]
    }
   ],
   "source": [
    "!cp /kaggle/input/bengali-eval-data/predict.py .\n",
    "\n",
    "!cp -r ../input/python-packages2 ./\n",
    "!tar xvfz ./python-packages2/jiwer.tgz\n",
    "!pip install ./jiwer/python-Levenshtein-0.12.2.tar.gz -f ./ --no-index\n",
    "!pip install ./jiwer/jiwer-2.3.0-py3-none-any.whl -f ./ --no-index"
   ]
  },
  {
   "cell_type": "code",
   "execution_count": 2,
   "id": "7b082be3",
   "metadata": {
    "execution": {
     "iopub.execute_input": "2024-04-07T22:57:37.346148Z",
     "iopub.status.busy": "2024-04-07T22:57:37.345808Z",
     "iopub.status.idle": "2024-04-07T22:58:24.485220Z",
     "shell.execute_reply": "2024-04-07T22:58:24.484248Z"
    },
    "papermill": {
     "duration": 47.149357,
     "end_time": "2024-04-07T22:58:24.487301",
     "exception": false,
     "start_time": "2024-04-07T22:57:37.337944",
     "status": "completed"
    },
    "tags": []
   },
   "outputs": [
    {
     "name": "stdout",
     "output_type": "stream",
     "text": [
      "4.38.2\n"
     ]
    },
    {
     "name": "stderr",
     "output_type": "stream",
     "text": [
      "2024-04-07 22:57:44.614244: E external/local_xla/xla/stream_executor/cuda/cuda_dnn.cc:9261] Unable to register cuDNN factory: Attempting to register factory for plugin cuDNN when one has already been registered\n",
      "2024-04-07 22:57:44.614348: E external/local_xla/xla/stream_executor/cuda/cuda_fft.cc:607] Unable to register cuFFT factory: Attempting to register factory for plugin cuFFT when one has already been registered\n",
      "2024-04-07 22:57:44.739647: E external/local_xla/xla/stream_executor/cuda/cuda_blas.cc:1515] Unable to register cuBLAS factory: Attempting to register factory for plugin cuBLAS when one has already been registered\n",
      "Special tokens have been added in the vocabulary, make sure the associated word embeddings are fine-tuned or trained.\n",
      "Special tokens have been added in the vocabulary, make sure the associated word embeddings are fine-tuned or trained.\n"
     ]
    },
    {
     "name": "stdout",
     "output_type": "stream",
     "text": [
      "model loaded!\n"
     ]
    }
   ],
   "source": [
    "import os\n",
    "import csv\n",
    "import time\n",
    "import glob\n",
    "\n",
    "MODEL = '/kaggle/input/bengali-ai-asr-submission/bengali-whisper-medium/'\n",
    "PUNCT_MODELS = [\n",
    "    '/kaggle/input/bengali-ai-asr-submission/punct-model-6layers/',\n",
    "    '/kaggle/input/bengali-ai-asr-submission/punct-model-8layers/',\n",
    "    '/kaggle/input/bengali-ai-asr-submission/punct-model-11layers/',\n",
    "    '/kaggle/input/bengali-ai-asr-submission/punct-model-12layers/'\n",
    "]\n",
    "CHUNK_LENGTH_S = 20.1\n",
    "ENABLE_BEAM = True\n",
    "\n",
    "\n",
    "PUNCT_WEIGHTS = [[1.0, 1.4, 1.0, 0.8]]\n",
    "\n",
    "if ENABLE_BEAM:\n",
    "    BATCH_SIZE = 4\n",
    "else:\n",
    "    BATCH_SIZE = 8\n",
    "\n",
    "    \n",
    "\n",
    "DATASET_PATH = '/kaggle/input/yt-speech-chunks/chunks/'\n",
    "    \n",
    "import csv\n",
    "import glob\n",
    "import shutil\n",
    "import librosa\n",
    "import argparse\n",
    "import warnings\n",
    "from pathlib import Path\n",
    "import transformers\n",
    "print(transformers.__version__)\n",
    "from transformers import pipeline, AutoModelForTokenClassification, AutoTokenizer\n",
    "\n",
    "import warnings\n",
    "\n",
    "warnings.filterwarnings(\"ignore\")\n",
    "\n",
    "files = list(glob.glob(DATASET_PATH + '/' + '*.wav'))\n",
    "files += list(glob.glob(DATASET_PATH + '/' + '*.mp3'))\n",
    "files.sort()\n",
    "\n",
    "pipe = pipeline(task=\"automatic-speech-recognition\",\n",
    "                model=MODEL,\n",
    "                tokenizer=MODEL,\n",
    "                chunk_length_s=CHUNK_LENGTH_S, device=0, batch_size=BATCH_SIZE)\n",
    "pipe.model.config.forced_decoder_ids = pipe.tokenizer.get_decoder_prompt_ids(language=\"bn\", task=\"transcribe\")\n",
    "\n",
    "print(\"model loaded!\")"
   ]
  },
  {
   "cell_type": "code",
   "execution_count": 3,
   "id": "646e58df",
   "metadata": {
    "execution": {
     "iopub.execute_input": "2024-04-07T22:58:24.499935Z",
     "iopub.status.busy": "2024-04-07T22:58:24.499339Z",
     "iopub.status.idle": "2024-04-07T22:58:24.505577Z",
     "shell.execute_reply": "2024-04-07T22:58:24.504683Z"
    },
    "papermill": {
     "duration": 0.014414,
     "end_time": "2024-04-07T22:58:24.507366",
     "exception": false,
     "start_time": "2024-04-07T22:58:24.492952",
     "status": "completed"
    },
    "tags": []
   },
   "outputs": [],
   "source": [
    "def fix_repetition(text, max_count):\n",
    "    uniq_word_counter = {}\n",
    "    words = text.split()\n",
    "    for word in text.split():\n",
    "        if word not in uniq_word_counter:\n",
    "            uniq_word_counter[word] = 1\n",
    "        else:\n",
    "            uniq_word_counter[word] += 1\n",
    "\n",
    "    for word, count in uniq_word_counter.items():\n",
    "        if count > max_count:\n",
    "            words = [w for w in words if w != word]\n",
    "    text = \" \".join(words)\n",
    "    return text"
   ]
  },
  {
   "cell_type": "code",
   "execution_count": 4,
   "id": "3b9da87e",
   "metadata": {
    "execution": {
     "iopub.execute_input": "2024-04-07T22:58:24.519563Z",
     "iopub.status.busy": "2024-04-07T22:58:24.519251Z",
     "iopub.status.idle": "2024-04-07T23:19:36.437995Z",
     "shell.execute_reply": "2024-04-07T23:19:36.436949Z"
    },
    "papermill": {
     "duration": 1271.927562,
     "end_time": "2024-04-07T23:19:36.440587",
     "exception": false,
     "start_time": "2024-04-07T22:58:24.513025",
     "status": "completed"
    },
    "tags": []
   },
   "outputs": [],
   "source": [
    "if ENABLE_BEAM:\n",
    "    texts = pipe(files, generate_kwargs={\"max_length\": 260, \"num_beams\": 4})\n",
    "else:\n",
    "    texts = pipe(files)"
   ]
  },
  {
   "cell_type": "code",
   "execution_count": 5,
   "id": "20a06943",
   "metadata": {
    "execution": {
     "iopub.execute_input": "2024-04-07T23:19:36.454791Z",
     "iopub.status.busy": "2024-04-07T23:19:36.454132Z",
     "iopub.status.idle": "2024-04-07T23:19:36.461415Z",
     "shell.execute_reply": "2024-04-07T23:19:36.460655Z"
    },
    "papermill": {
     "duration": 0.016748,
     "end_time": "2024-04-07T23:19:36.463293",
     "exception": false,
     "start_time": "2024-04-07T23:19:36.446545",
     "status": "completed"
    },
    "tags": []
   },
   "outputs": [
    {
     "data": {
      "text/plain": [
       "542"
      ]
     },
     "execution_count": 5,
     "metadata": {},
     "output_type": "execute_result"
    }
   ],
   "source": [
    "preds = []\n",
    "for i in texts:\n",
    "    preds.append(i['text'])\n",
    "len(preds)"
   ]
  },
  {
   "cell_type": "code",
   "execution_count": 6,
   "id": "ef1b9e21",
   "metadata": {
    "execution": {
     "iopub.execute_input": "2024-04-07T23:19:36.475465Z",
     "iopub.status.busy": "2024-04-07T23:19:36.475192Z",
     "iopub.status.idle": "2024-04-07T23:19:36.478916Z",
     "shell.execute_reply": "2024-04-07T23:19:36.478152Z"
    },
    "papermill": {
     "duration": 0.011975,
     "end_time": "2024-04-07T23:19:36.480878",
     "exception": false,
     "start_time": "2024-04-07T23:19:36.468903",
     "status": "completed"
    },
    "tags": []
   },
   "outputs": [],
   "source": [
    "import pandas as pd"
   ]
  },
  {
   "cell_type": "code",
   "execution_count": 7,
   "id": "990e5b0d",
   "metadata": {
    "execution": {
     "iopub.execute_input": "2024-04-07T23:19:36.492988Z",
     "iopub.status.busy": "2024-04-07T23:19:36.492721Z",
     "iopub.status.idle": "2024-04-07T23:19:36.499480Z",
     "shell.execute_reply": "2024-04-07T23:19:36.498721Z"
    },
    "papermill": {
     "duration": 0.01499,
     "end_time": "2024-04-07T23:19:36.501402",
     "exception": false,
     "start_time": "2024-04-07T23:19:36.486412",
     "status": "completed"
    },
    "tags": []
   },
   "outputs": [],
   "source": [
    "df = pd.DataFrame({\"id\":files,\"sentence\":preds})"
   ]
  },
  {
   "cell_type": "code",
   "execution_count": 8,
   "id": "99300d6a",
   "metadata": {
    "execution": {
     "iopub.execute_input": "2024-04-07T23:19:36.513417Z",
     "iopub.status.busy": "2024-04-07T23:19:36.513152Z",
     "iopub.status.idle": "2024-04-07T23:19:36.528220Z",
     "shell.execute_reply": "2024-04-07T23:19:36.527474Z"
    },
    "papermill": {
     "duration": 0.023113,
     "end_time": "2024-04-07T23:19:36.530055",
     "exception": false,
     "start_time": "2024-04-07T23:19:36.506942",
     "status": "completed"
    },
    "tags": []
   },
   "outputs": [
    {
     "data": {
      "text/html": [
       "<div>\n",
       "<style scoped>\n",
       "    .dataframe tbody tr th:only-of-type {\n",
       "        vertical-align: middle;\n",
       "    }\n",
       "\n",
       "    .dataframe tbody tr th {\n",
       "        vertical-align: top;\n",
       "    }\n",
       "\n",
       "    .dataframe thead th {\n",
       "        text-align: right;\n",
       "    }\n",
       "</style>\n",
       "<table border=\"1\" class=\"dataframe\">\n",
       "  <thead>\n",
       "    <tr style=\"text-align: right;\">\n",
       "      <th></th>\n",
       "      <th>id</th>\n",
       "      <th>sentence</th>\n",
       "    </tr>\n",
       "  </thead>\n",
       "  <tbody>\n",
       "    <tr>\n",
       "      <th>0</th>\n",
       "      <td>000000_000003.wav</td>\n",
       "      <td>অভ্যাসের বেলা আসুন নেই বালা দেওয়া বাবা দিন খান...</td>\n",
       "    </tr>\n",
       "    <tr>\n",
       "      <th>1</th>\n",
       "      <td>000000_000004.wav</td>\n",
       "      <td>খান্ডির আমোদ যে মানুষের সামনে আয় আঁকড়া তাই লজ্...</td>\n",
       "    </tr>\n",
       "    <tr>\n",
       "      <th>2</th>\n",
       "      <td>000000_000005.wav</td>\n",
       "      <td>আমার এই অবস্থা আছে না রে বাবা আমি আমার আল্লাহ ...</td>\n",
       "    </tr>\n",
       "    <tr>\n",
       "      <th>3</th>\n",
       "      <td>000000_000006.wav</td>\n",
       "      <td>আমার বাচ্চার দুয়াটা কিডনি নষ্ট</td>\n",
       "    </tr>\n",
       "    <tr>\n",
       "      <th>4</th>\n",
       "      <td>000000_000007.wav</td>\n",
       "      <td>এলাকি ভাঙচুর জারি পাইলাম তার কিছু থেকে আঁতর থে...</td>\n",
       "    </tr>\n",
       "  </tbody>\n",
       "</table>\n",
       "</div>"
      ],
      "text/plain": [
       "                  id                                           sentence\n",
       "0  000000_000003.wav  অভ্যাসের বেলা আসুন নেই বালা দেওয়া বাবা দিন খান...\n",
       "1  000000_000004.wav  খান্ডির আমোদ যে মানুষের সামনে আয় আঁকড়া তাই লজ্...\n",
       "2  000000_000005.wav  আমার এই অবস্থা আছে না রে বাবা আমি আমার আল্লাহ ...\n",
       "3  000000_000006.wav                     আমার বাচ্চার দুয়াটা কিডনি নষ্ট\n",
       "4  000000_000007.wav  এলাকি ভাঙচুর জারি পাইলাম তার কিছু থেকে আঁতর থে..."
      ]
     },
     "execution_count": 8,
     "metadata": {},
     "output_type": "execute_result"
    }
   ],
   "source": [
    "df['id'] = df['id'].apply(lambda x: x.replace(DATASET_PATH,\"\"))\n",
    "df.head()"
   ]
  },
  {
   "cell_type": "code",
   "execution_count": 9,
   "id": "2daf9c64",
   "metadata": {
    "execution": {
     "iopub.execute_input": "2024-04-07T23:19:36.542719Z",
     "iopub.status.busy": "2024-04-07T23:19:36.542397Z",
     "iopub.status.idle": "2024-04-07T23:19:36.553293Z",
     "shell.execute_reply": "2024-04-07T23:19:36.552627Z"
    },
    "papermill": {
     "duration": 0.019346,
     "end_time": "2024-04-07T23:19:36.555180",
     "exception": false,
     "start_time": "2024-04-07T23:19:36.535834",
     "status": "completed"
    },
    "tags": []
   },
   "outputs": [],
   "source": [
    "df.to_csv(\"submission.csv\",index=False)"
   ]
  },
  {
   "cell_type": "code",
   "execution_count": null,
   "id": "aed1328e",
   "metadata": {
    "papermill": {
     "duration": 0.00578,
     "end_time": "2024-04-07T23:19:36.566739",
     "exception": false,
     "start_time": "2024-04-07T23:19:36.560959",
     "status": "completed"
    },
    "tags": []
   },
   "outputs": [],
   "source": []
  }
 ],
 "metadata": {
  "kaggle": {
   "accelerator": "gpu",
   "dataSources": [
    {
     "databundleVersionId": 8149390,
     "sourceId": 73047,
     "sourceType": "competition"
    },
    {
     "datasetId": 2447262,
     "sourceId": 4143520,
     "sourceType": "datasetVersion"
    },
    {
     "datasetId": 3865741,
     "sourceId": 6707460,
     "sourceType": "datasetVersion"
    },
    {
     "datasetId": 4740850,
     "sourceId": 8041252,
     "sourceType": "datasetVersion"
    }
   ],
   "dockerImageVersionId": 30674,
   "isGpuEnabled": true,
   "isInternetEnabled": true,
   "language": "python",
   "sourceType": "notebook"
  },
  "kernelspec": {
   "display_name": "Python 3",
   "language": "python",
   "name": "python3"
  },
  "language_info": {
   "codemirror_mode": {
    "name": "ipython",
    "version": 3
   },
   "file_extension": ".py",
   "mimetype": "text/x-python",
   "name": "python",
   "nbconvert_exporter": "python",
   "pygments_lexer": "ipython3",
   "version": "3.10.13"
  },
  "papermill": {
   "default_parameters": {},
   "duration": 1358.726107,
   "end_time": "2024-04-07T23:19:39.411558",
   "environment_variables": {},
   "exception": null,
   "input_path": "__notebook__.ipynb",
   "output_path": "__notebook__.ipynb",
   "parameters": {},
   "start_time": "2024-04-07T22:57:00.685451",
   "version": "2.5.0"
  }
 },
 "nbformat": 4,
 "nbformat_minor": 5
}
